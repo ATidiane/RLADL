{
 "cells": [
  {
   "cell_type": "markdown",
   "metadata": {},
   "source": [
    "# FDMS, TME4 - Policy Gradients"
   ]
  },
  {
   "cell_type": "markdown",
   "metadata": {},
   "source": [
    "Auteurs :  \n",
    "* BIZZOZZERO Nicolas\n",
    "* ADOUM Robert"
   ]
  },
  {
   "cell_type": "code",
   "execution_count": null,
   "metadata": {},
   "outputs": [],
   "source": [
    "import random\n",
    "\n",
    "import gym\n",
    "from gym import wrappers, logger\n",
    "import matplotlib\n",
    "import matplotlib.pyplot as plt\n",
    "import numpy as np\n",
    "import torch\n",
    "import torch.nn as nn\n",
    "import torch.optim as optim\n",
    "import torch.nn.functional as F\n",
    "from torch.autograd import Variable\n",
    "\n",
    "from a2c import A2C, init_environment, run_agent_on_environment\n",
    "\n",
    "# matplotlib.use(\"TkAgg\")"
   ]
  },
  {
   "cell_type": "markdown",
   "metadata": {},
   "source": [
    "# 1 - Online A2C"
   ]
  },
  {
   "cell_type": "markdown",
   "metadata": {},
   "source": [
    "## CartPole"
   ]
  },
  {
   "cell_type": "code",
   "execution_count": null,
   "metadata": {},
   "outputs": [],
   "source": [
    "# Initialisation de l'environnement\n",
    "env_id = 'CartPole-v1'\n",
    "env, envx = init_environment(env_id, seed=0)\n",
    "\n",
    "agent = A2C(dim_input=env.observation_space.shape[0],\n",
    "            dim_output=env.action_space.n,\n",
    "            gamma=0.99,\n",
    "            alpha=0.7,\n",
    "            layers=[200],\n",
    "            lr_V=0.001,\n",
    "            lr_pi=0.001)\n",
    "run_agent_on_environment(agent, env, envx,\n",
    "                         max_episode=500,\n",
    "                         iter_print=100,\n",
    "                         iter_show=100)"
   ]
  },
  {
   "cell_type": "code",
   "execution_count": null,
   "metadata": {},
   "outputs": [],
   "source": [
    "# Initialisation de l'environnement\n",
    "env_id = 'LunarLander-v2'\n",
    "env, envx = init_environment(env_id, seed=SEED_ENVIRONMENT)\n",
    "\n",
    "agent = A2C(dim_input=env.observation_space.shape[0],\n",
    "            dim_output=env.action_space.n,\n",
    "            gamma=0.99,\n",
    "            alpha=0.7,\n",
    "            layers=[30, 30],\n",
    "            lr_V=0.01,\n",
    "            lr_pi=0.001)\n",
    "run_agent_on_environment(agent, env, envx,\n",
    "                         max_episode=10000,\n",
    "                         iter_print=100,\n",
    "                         iter_show=100)"
   ]
  },
  {
   "cell_type": "markdown",
   "metadata": {},
   "source": [
    "# 2 - Batch A2C"
   ]
  },
  {
   "cell_type": "code",
   "execution_count": null,
   "metadata": {},
   "outputs": [],
   "source": []
  }
 ],
 "metadata": {
  "kernelspec": {
   "display_name": "Python 3",
   "language": "python",
   "name": "python3"
  },
  "language_info": {
   "codemirror_mode": {
    "name": "ipython",
    "version": 3
   },
   "file_extension": ".py",
   "mimetype": "text/x-python",
   "name": "python",
   "nbconvert_exporter": "python",
   "pygments_lexer": "ipython3",
   "version": "3.6.0"
  }
 },
 "nbformat": 4,
 "nbformat_minor": 2
}
