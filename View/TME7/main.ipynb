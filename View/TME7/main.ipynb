{
 "cells": [
  {
   "cell_type": "code",
   "execution_count": null,
   "metadata": {},
   "outputs": [],
   "source": [
    "%%html\n",
    "<style>\n",
    "table {float:center}\n",
    "</style>"
   ]
  },
  {
   "cell_type": "code",
   "execution_count": 26,
   "metadata": {},
   "outputs": [],
   "source": [
    "import os\n",
    "from random import randint\n",
    "\n",
    "import matplotlib.pyplot as plt\n",
    "import numpy as np\n",
    "import pandas as pd\n",
    "\n",
    "from tqdm import tqdm\n",
    "\n",
    "\n",
    "PATH_DIR_DATA = \"data\"\n",
    "PATH_DATA = os.path.join(PATH_DIR_DATA, \"CTR.txt\")"
   ]
  },
  {
   "cell_type": "markdown",
   "metadata": {},
   "source": [
    "# Chargement des données "
   ]
  },
  {
   "cell_type": "code",
   "execution_count": 23,
   "metadata": {
    "scrolled": false
   },
   "outputs": [
    {
     "name": "stdout",
     "output_type": "stream",
     "text": [
      "<class 'pandas.core.frame.DataFrame'>\n",
      "RangeIndex: 5000 entries, 0 to 4999\n",
      "Data columns (total 3 columns):\n",
      "0    5000 non-null int64\n",
      "1    5000 non-null object\n",
      "2    5000 non-null object\n",
      "dtypes: int64(1), object(2)\n",
      "memory usage: 117.3+ KB\n",
      "None\n"
     ]
    },
    {
     "data": {
      "text/html": [
       "<div>\n",
       "<style scoped>\n",
       "    .dataframe tbody tr th:only-of-type {\n",
       "        vertical-align: middle;\n",
       "    }\n",
       "\n",
       "    .dataframe tbody tr th {\n",
       "        vertical-align: top;\n",
       "    }\n",
       "\n",
       "    .dataframe thead th {\n",
       "        text-align: right;\n",
       "    }\n",
       "</style>\n",
       "<table border=\"1\" class=\"dataframe\">\n",
       "  <thead>\n",
       "    <tr style=\"text-align: right;\">\n",
       "      <th></th>\n",
       "      <th>0</th>\n",
       "      <th>1</th>\n",
       "      <th>2</th>\n",
       "    </tr>\n",
       "  </thead>\n",
       "  <tbody>\n",
       "    <tr>\n",
       "      <th>0</th>\n",
       "      <td>0</td>\n",
       "      <td>[0.74837091377052, 0.8352077827766918, 0.07669...</td>\n",
       "      <td>[0.10341905704918021, 0.19069778281037159, 0.0...</td>\n",
       "    </tr>\n",
       "    <tr>\n",
       "      <th>1</th>\n",
       "      <td>1</td>\n",
       "      <td>[0.16841851887985582, 0.1337544632704264, 0.43...</td>\n",
       "      <td>[0.0, 0.0, 0.0, 0.020827097947315257, 0.0, 0.0...</td>\n",
       "    </tr>\n",
       "    <tr>\n",
       "      <th>2</th>\n",
       "      <td>2</td>\n",
       "      <td>[0.4852873193263283, 0.5669886866963504, 0.041...</td>\n",
       "      <td>[0.10957461446818696, 0.13662644655693568, 0.0...</td>\n",
       "    </tr>\n",
       "    <tr>\n",
       "      <th>3</th>\n",
       "      <td>3</td>\n",
       "      <td>[0.6222307845696199, 0.1961234321879859, 0.131...</td>\n",
       "      <td>[0.0, 0.1510688622593973, 0.0, 0.1272393919522...</td>\n",
       "    </tr>\n",
       "    <tr>\n",
       "      <th>4</th>\n",
       "      <td>4</td>\n",
       "      <td>[0.3317104123038488, 0.08641097481469784, 0.02...</td>\n",
       "      <td>[0.0, 0.10921436423915529, 0.0, 0.151937820362...</td>\n",
       "    </tr>\n",
       "  </tbody>\n",
       "</table>\n",
       "</div>"
      ],
      "text/plain": [
       "   0                                                  1  \\\n",
       "0  0  [0.74837091377052, 0.8352077827766918, 0.07669...   \n",
       "1  1  [0.16841851887985582, 0.1337544632704264, 0.43...   \n",
       "2  2  [0.4852873193263283, 0.5669886866963504, 0.041...   \n",
       "3  3  [0.6222307845696199, 0.1961234321879859, 0.131...   \n",
       "4  4  [0.3317104123038488, 0.08641097481469784, 0.02...   \n",
       "\n",
       "                                                   2  \n",
       "0  [0.10341905704918021, 0.19069778281037159, 0.0...  \n",
       "1  [0.0, 0.0, 0.0, 0.020827097947315257, 0.0, 0.0...  \n",
       "2  [0.10957461446818696, 0.13662644655693568, 0.0...  \n",
       "3  [0.0, 0.1510688622593973, 0.0, 0.1272393919522...  \n",
       "4  [0.0, 0.10921436423915529, 0.0, 0.151937820362...  "
      ]
     },
     "execution_count": 23,
     "metadata": {},
     "output_type": "execute_result"
    }
   ],
   "source": [
    "df = pd.read_csv(PATH_DATA, sep=\":\", header=None)\n",
    "df.iloc[:, 1] = df.iloc[:, 1].apply(lambda l: list(map(float, l.split(';'))))\n",
    "df.iloc[:, 2] = df.iloc[:, 2].apply(lambda l: list(map(float, l.split(';'))))\n",
    "print(df.info())\n",
    "df.head()"
   ]
  },
  {
   "cell_type": "markdown",
   "metadata": {},
   "source": [
    "# Stratégies baselines"
   ]
  },
  {
   "cell_type": "code",
   "execution_count": 29,
   "metadata": {},
   "outputs": [],
   "source": [
    "def strategie_random(df, num_article):\n",
    "        \"\"\" Pour un num_article donné, renvoie un annonceur aléatoirement \"\"\"\n",
    "        return randint(0, 9)\n",
    "\n",
    "\n",
    "def strategie_staticbest(df, num_article):\n",
    "    \"\"\" Pour un num_article donné, renvoie l'annonceur avec le meilleur \n",
    "    taux de clics cumulés\n",
    "    \"\"\"\n",
    "    return np.array(df.iloc[:, 2].values.tolist()).sum(axis=0).argmax()\n",
    "\n",
    "\n",
    "def strategie_optimale(df, num_article):\n",
    "    \"\"\" Pour un num_article donné, renvoie l'annonceur qui a le meilleur\n",
    "    taux de clics pour ce num_article\n",
    "    \"\"\"\n",
    "    return np.argmax(df.iloc[num_article, 2])\n",
    "\n",
    "\n",
    "def baseline(df, strategie, T=5000, verbose=True):\n",
    "    \"\"\" Permet de d'obtenir la liste des rewards cumulés à l'itération t\n",
    "    pour une stratégie définie.\n",
    "    \"\"\"\n",
    "    total_reward = [df.iloc[0,2][strategie(df, 0)]]\n",
    "    for i in tqdm(range(1, T), disable=not verbose):\n",
    "        total_reward.append(total_reward[-1] + df.iloc[i,2][strategie(df, i)])\n",
    "    return total_reward"
   ]
  },
  {
   "cell_type": "markdown",
   "metadata": {},
   "source": [
    "# Algorithme UCB"
   ]
  },
  {
   "cell_type": "code",
   "execution_count": 30,
   "metadata": {},
   "outputs": [],
   "source": [
    "def ucb(df, T=5000, verbose=True): \n",
    "    \"\"\" Renvoie la liste des rewards cumulés à l'itération t\n",
    "    pour la méthode UCB.\n",
    "    \"\"\"\n",
    "    # Initialisation\n",
    "    B = np.zeros(10)\n",
    "    somme_reward = [[] for _ in range(10)]\n",
    "    total_reward = []\n",
    "    somme_reward[0].append(df.iloc[0, 2][0])\n",
    "    total_reward.append(df.iloc[0, 2][0])\n",
    "    B[0] = np.sqrt(2 * np.log(1))\n",
    "    for t in range(1, 10):\n",
    "        somme_reward[t].append(df.iloc[t, 2][t])\n",
    "        total_reward.append(total_reward[-1] + df.iloc[t, 2][t])\n",
    "        B[t] = np.sqrt(2 * np.log(t+1))\n",
    "\n",
    "    for t in tqdm(range(10, T), initial=10, disable=not verbose):\n",
    "        pi_t = B.argmax()\n",
    "        somme_reward[pi_t].append(df.iloc[t, 2][pi_t])\n",
    "        total_reward.append(total_reward[-1] + df.iloc[t, 2][pi_t])\n",
    "        B[pi_t] = np.mean(somme_reward[pi_t]) + np.sqrt(2 * np.log(t+1) /\\\n",
    "                                                len(somme_reward[pi_t]))\n",
    "        \n",
    "    return total_reward"
   ]
  },
  {
   "cell_type": "markdown",
   "metadata": {},
   "source": [
    "# Algorithme LinUCB"
   ]
  },
  {
   "cell_type": "code",
   "execution_count": 31,
   "metadata": {},
   "outputs": [],
   "source": [
    "def LinUCB(df, alpha, T=5000, verbose=True):\n",
    "    \"\"\" Renvoie la liste des rewards cumulés à l'itération t\n",
    "    pour la méthode LinUCB.\n",
    "    \"\"\"\n",
    "    features = df.iloc[:, 1].values\n",
    "    d = len(features[0])\n",
    "    theta, p = [None] * 10, np.zeros(10)\n",
    "    A, B = [None] * 10, [None] * 10\n",
    "    total_reward = []\n",
    "    for t in tqdm(range(T), disable=not verbose):\n",
    "        for a in range(10):\n",
    "            if A[a] is None:\n",
    "                A[a] = np.identity(d)\n",
    "                B[a] = np.zeros(d)\n",
    "            A_inverse = np.linalg.inv(A[a])\n",
    "            theta[a] = A_inverse @ B[a]\n",
    "            p[a] = np.transpose(theta[a]) @ features[t] + alpha *\\\n",
    "                   np.sqrt(np.transpose(features[t]) @ A_inverse @ \\\n",
    "                   features[t])\n",
    "        a_t = p.argmax()\n",
    "        if len(total_reward) == 0:\n",
    "            total_reward.append(df.iloc[t, 2][a_t])\n",
    "        else:\n",
    "            total_reward.append(total_reward[-1] + df.iloc[t, 2][a_t])\n",
    "          \n",
    "        A[a_t] += features[t] @ np.transpose(features[t])\n",
    "        B[a_t] += df.iloc[t, 2][a_t] * np.array(features[t])\n",
    "    return total_reward"
   ]
  },
  {
   "cell_type": "markdown",
   "metadata": {},
   "source": [
    "### Recherche d' $\\alpha$ optimal"
   ]
  },
  {
   "cell_type": "code",
   "execution_count": 40,
   "metadata": {},
   "outputs": [],
   "source": [
    "def get_best_alpha(df, T=5000, nb_step_alpha=20, verbose=True):\n",
    "    \"\"\" Permet de tester differents alphas pour la fonction LinUCB\n",
    "    et d'afficher un graphique pour les comparers.\n",
    "    Renvoie un tuble contenant le meilleur alpha et le\n",
    "    reward cumulé final pour cet alpha.\n",
    "    \"\"\"\n",
    "    alpha = 0.1\n",
    "    best = [0.1, 0]\n",
    "    x = [i for i in range(T)]\n",
    "    for _ in tqdm(range(nb_step_alpha), disable=not verbose):\n",
    "        total_reward = LinUCB(df, alpha, T, verbose=False)\n",
    "        if verbose:\n",
    "            print(\"alpha =\", alpha, \"---> r =\", total_reward[-1])\n",
    "        if best[1] < total_reward[-1]:\n",
    "            best[0] = alpha\n",
    "            best[1] = total_reward[-1]\n",
    "        \n",
    "        plt.plot(x, total_reward, label=r\"$\\alpha$ = \"+str(round(alpha, 1)))\n",
    "        alpha += 0.1\n",
    "    plt.legend()\n",
    "    plt.xlabel(\"Itération\")\n",
    "    plt.ylabel(\"Reward cumulé\")\n",
    "    titre = \"\"\"\n",
    "    Graphique pour LinUCB du reward cumulé en fonction du nombre d'itérations\n",
    "    pour différentes valeurs de alpha\n",
    "    \"\"\"\n",
    "    plt.title(titre)\n",
    "    plt.plot()\n",
    "    return tuple(best)"
   ]
  },
  {
   "cell_type": "code",
   "execution_count": 42,
   "metadata": {},
   "outputs": [
    {
     "name": "stderr",
     "output_type": "stream",
     "text": [
      "\n",
      "  0%|                                                | 0/10 [00:00<?, ?it/s]"
     ]
    },
    {
     "name": "stdout",
     "output_type": "stream",
     "text": [
      "alpha = 0.1 ---> r = 1241.698785846658\n"
     ]
    },
    {
     "name": "stderr",
     "output_type": "stream",
     "text": [
      "\n",
      " 10%|████                                    | 1/10 [00:16<02:24, 16.03s/it]"
     ]
    },
    {
     "name": "stdout",
     "output_type": "stream",
     "text": [
      "alpha = 0.2 ---> r = 1210.875088704047\n"
     ]
    },
    {
     "name": "stderr",
     "output_type": "stream",
     "text": [
      "\n",
      " 20%|████████                                | 2/10 [00:31<02:06, 15.77s/it]"
     ]
    },
    {
     "name": "stdout",
     "output_type": "stream",
     "text": [
      "alpha = 0.30000000000000004 ---> r = 1248.1251938335824\n"
     ]
    },
    {
     "name": "stderr",
     "output_type": "stream",
     "text": [
      "\n",
      " 30%|████████████                            | 3/10 [00:46<01:49, 15.63s/it]"
     ]
    },
    {
     "name": "stdout",
     "output_type": "stream",
     "text": [
      "alpha = 0.4 ---> r = 1245.4267254017004\n"
     ]
    },
    {
     "name": "stderr",
     "output_type": "stream",
     "text": [
      "\n",
      " 40%|████████████████                        | 4/10 [01:01<01:33, 15.53s/it]"
     ]
    },
    {
     "name": "stdout",
     "output_type": "stream",
     "text": [
      "alpha = 0.5 ---> r = 1254.3912945262732\n"
     ]
    },
    {
     "name": "stderr",
     "output_type": "stream",
     "text": [
      "\n",
      " 50%|████████████████████                    | 5/10 [01:18<01:19, 15.90s/it]"
     ]
    },
    {
     "name": "stdout",
     "output_type": "stream",
     "text": [
      "alpha = 0.6 ---> r = 1249.816817229307\n"
     ]
    },
    {
     "name": "stderr",
     "output_type": "stream",
     "text": [
      "\n",
      " 60%|████████████████████████                | 6/10 [01:34<01:03, 15.85s/it]"
     ]
    },
    {
     "name": "stdout",
     "output_type": "stream",
     "text": [
      "alpha = 0.7 ---> r = 1108.3258306411242\n"
     ]
    },
    {
     "name": "stderr",
     "output_type": "stream",
     "text": [
      "\n",
      " 70%|████████████████████████████            | 7/10 [01:50<00:48, 16.06s/it]"
     ]
    },
    {
     "name": "stdout",
     "output_type": "stream",
     "text": [
      "alpha = 0.7999999999999999 ---> r = 1106.9254520644215\n"
     ]
    },
    {
     "name": "stderr",
     "output_type": "stream",
     "text": [
      "\n",
      " 80%|████████████████████████████████        | 8/10 [02:07<00:32, 16.20s/it]"
     ]
    },
    {
     "name": "stdout",
     "output_type": "stream",
     "text": [
      "alpha = 0.8999999999999999 ---> r = 1175.9891308156825\n"
     ]
    },
    {
     "name": "stderr",
     "output_type": "stream",
     "text": [
      "\n",
      " 90%|████████████████████████████████████    | 9/10 [02:23<00:16, 16.25s/it]"
     ]
    },
    {
     "name": "stdout",
     "output_type": "stream",
     "text": [
      "alpha = 0.9999999999999999 ---> r = 1174.094688355015\n"
     ]
    },
    {
     "name": "stderr",
     "output_type": "stream",
     "text": [
      "\n",
      "100%|███████████████████████████████████████| 10/10 [02:40<00:00, 16.37s/it]\n"
     ]
    },
    {
     "data": {
      "text/plain": [
       "(0.5, 1254.3912945262732)"
      ]
     },
     "execution_count": 42,
     "metadata": {},
     "output_type": "execute_result"
    },
    {
     "data": {
      "image/png": "[encoded data removed]",
      "text/plain": [
       "<matplotlib.figure.Figure at 0x1dece3baa90>"
      ]
     },
     "metadata": {},
     "output_type": "display_data"
    }
   ],
   "source": [
    "get_best_alpha(df, T=5000, nb_step_alpha=10)"
   ]
  },
  {
   "cell_type": "markdown",
   "metadata": {},
   "source": [
    "Nous trouvons que le meilleur $\\alpha$ est 0.5.  \n",
    "Nous avons testé des valeurs de $\\alpha$ allant de 0.1 à 2 avec un pas de 0.1.  \n",
    "Le graphique ci-dessus ne montre que les $\\alpha$ de 0.1 à 1 pour des raisons esthetiques."
   ]
  },
  {
   "cell_type": "markdown",
   "metadata": {},
   "source": [
    "# Bonus: UCB-V"
   ]
  },
  {
   "cell_type": "code",
   "execution_count": 163,
   "metadata": {},
   "outputs": [],
   "source": [
    "def ucb_v(df, T=5000, verbose=True):\n",
    "    \"\"\" Renvoie la liste des rewards cumulés à l'itération t\n",
    "    pour la méthode UCB-V.\n",
    "    \"\"\"\n",
    "    B = np.zeros(10)\n",
    "    somme_reward = [[] for _ in range(10)]\n",
    "    variance_reward = [[] for _ in range(10)]\n",
    "\n",
    "    total_reward = []\n",
    "    # Initialisation\n",
    "    somme_reward[0].append(df.iloc[0, 2][0])\n",
    "    variance_reward[0].append(0)\n",
    "    total_reward.append(df.iloc[0, 2][0])\n",
    "    B[0] = np.sqrt(2 * np.log(1))\n",
    "    for t in range(1, 10):\n",
    "        somme_reward[t].append(df.iloc[t, 2][t])\n",
    "        variance_reward[t].append(0)\n",
    "        total_reward.append(total_reward[-1] + df.iloc[t, 2][t])\n",
    "        B[t] = np.sqrt(2 * np.log(t+1))\n",
    "\n",
    "    for t in tqdm(range(10, T), initial=10, disable=not verbose):\n",
    "        pi_t = B.argmax()\n",
    "        somme_reward[pi_t].append(df.iloc[t, 2][pi_t])\n",
    "        moyenne = np.mean(somme_reward[pi_t])\n",
    "        somme = np.sum(np.array(somme_reward[pi_t]) - moyenne)**2\n",
    "        variance_reward[pi_t] = somme / len(somme_reward[pi_t])\n",
    "        total_reward.append(total_reward[-1] + df.iloc[t, 2][pi_t])\n",
    "        \n",
    "        B[pi_t] = moyenne + np.sqrt(2 * np.log(t+1) * variance_reward[pi_t]/\\\n",
    "                  len(somme_reward[pi_t])) + np.log(t+1) /\\\n",
    "                  (2 * len(somme_reward[pi_t]))\n",
    "        \n",
    "    return total_reward"
   ]
  },
  {
   "cell_type": "markdown",
   "metadata": {},
   "source": [
    "# Comparaison des méthodes"
   ]
  },
  {
   "cell_type": "code",
   "execution_count": 186,
   "metadata": {},
   "outputs": [
    {
     "data": {
      "image/png": "[encoded data removed]",
      "text/plain": [
       "<matplotlib.figure.Figure at 0x911a0f0>"
      ]
     },
     "metadata": {},
     "output_type": "display_data"
    }
   ],
   "source": [
    "def plot_graph(df, T=5000):\n",
    "    \"\"\" Affiche du graphique représentant le reward cumulé à\n",
    "    l'itération t pour différentes méthodes\"\"\"\n",
    "    x = [i for i in range(T)]\n",
    "    plt.plot(x, baseline(df, strategie_random, T), label=\"Random\" )\n",
    "    plt.plot(x, baseline(df, strategie_staticbest, T), label=\"StaticBest\")\n",
    "    plt.plot(x, baseline(df, strategie_optimale, T), label=\"Optimale\")\n",
    "    plt.plot(x, ucb(df, T), label=\"UCB\")\n",
    "    plt.plot(x, ucb_v(df, T), label=\"UCB-V\")\n",
    "    plt.plot(x, LinUCB(df, 0.5, T), label=\"LinUCB\")\n",
    "    plt.legend()\n",
    "    plt.xlabel(\"Itération\")\n",
    "    plt.ylabel(\"Reward cumulé\")\n",
    "    titre = \"\"\"\n",
    "    Graphique du reward cumulé en fonction du nombre d'itération\n",
    "    pour différentes méthodes permettant de résoudre des problèmes de bandits\n",
    "    \"\"\"\n",
    "    plt.title(titre)\n",
    "    plt.show()\n",
    "    \n",
    "plot_graph(df)"
   ]
  },
  {
   "cell_type": "markdown",
   "metadata": {},
   "source": [
    "On trouve bien des résultats cohérents, la méthode random donne bien, et de loin, les plus mauvais résultats tandis que l'optimal lui donne les meilleurs. De plus LinUCB et UCB-V étant des améliorations de UCB, on retrouve bien de meilleurs résultats que UCB.\n",
    "Pour finir si l'on regarde bien UCB, on remarque que nous n'avons pas rééllement qu'une droite mais que de 0 à 1000 nous avons une progressions lineaire, puis de 1000 à 5000 une autre différente, laissant présager une amélioration.\n",
    "\n",
    "Maintenant nous trouvons étrange que UCB-V soit meilleur que LinUCB et que StaticBest soit la deuxième meilleure méthode même si UCB-V et lui sont quasiment égaux."
   ]
  },
  {
   "cell_type": "code",
   "execution_count": null,
   "metadata": {},
   "outputs": [],
   "source": []
  }
 ],
 "metadata": {
  "kernelspec": {
   "display_name": "Python 3",
   "language": "python",
   "name": "python3"
  },
  "language_info": {
   "codemirror_mode": {
    "name": "ipython",
    "version": 3
   },
   "file_extension": ".py",
   "mimetype": "text/x-python",
   "name": "python",
   "nbconvert_exporter": "python",
   "pygments_lexer": "ipython3",
   "version": "3.6.0"
  }
 },
 "nbformat": 4,
 "nbformat_minor": 2
}
